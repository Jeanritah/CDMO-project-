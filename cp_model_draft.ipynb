{
 "cells": [
  {
   "cell_type": "markdown",
   "id": "baa483ef",
   "metadata": {},
   "source": [
    "# STS with CP - first model draft"
   ]
  },
  {
   "cell_type": "markdown",
   "id": "a5a642dd",
   "metadata": {},
   "source": [
    "## 1. Instance Parameters"
   ]
  },
  {
   "cell_type": "markdown",
   "id": "b70e9e3a",
   "metadata": {},
   "source": [
    "The instance parameter of this STS problem is $n$, which refers to the number of teams.\n",
    "The other variables are derived from $n$:\n",
    "- number of weeks in the tournament = $n - 1$\n",
    "- number of periods for each week = $\\frac{n}{2}$\n",
    "- number of slots for each period = $2$ (which means that the team in the first slot plays at home and the team in the second slot plays away)"
   ]
  },
  {
   "cell_type": "code",
   "execution_count": 1,
   "id": "52454990",
   "metadata": {},
   "outputs": [
    {
     "name": "stdout",
     "output_type": "stream",
     "text": [
      "Overwriting ./first_model_draft.mzn\n"
     ]
    }
   ],
   "source": [
    "%%writefile \"./first_model_draft.mzn\"\n",
    "include \"alldifferent.mzn\";\n",
    "\n",
    "int: n;\n",
    "int: weeks = n - 1;\n",
    "int: periods = n div 2;\n",
    "int: slots = 2;"
   ]
  },
  {
   "cell_type": "markdown",
   "id": "72898b98",
   "metadata": {},
   "source": [
    "## 2. Decision Variables"
   ]
  },
  {
   "cell_type": "markdown",
   "id": "3199a939",
   "metadata": {},
   "source": [
    "In this first draft just one decision variable was used: $game_{w,p,s}$, where $w = 1, ..., weeks$, $p = 1, ..., periods$ and $s = 1, ..., slots$.\n",
    "- $game_{w,p,1}$ referes to teams that play at home\n",
    "- $game_{w,p,2}$ referes to teams that play away"
   ]
  },
  {
   "cell_type": "code",
   "execution_count": 2,
   "id": "cc1c260a",
   "metadata": {},
   "outputs": [
    {
     "name": "stdout",
     "output_type": "stream",
     "text": [
      "Appending to ./first_model_draft.mzn\n"
     ]
    }
   ],
   "source": [
    "%%writefile -a \"./first_model_draft.mzn\"\n",
    "\n",
    "array[1..weeks, 1..periods, 1..slots] of var 1..n: game;"
   ]
  },
  {
   "cell_type": "markdown",
   "id": "2fe53958",
   "metadata": {},
   "source": [
    "## 3. Constraints"
   ]
  },
  {
   "cell_type": "markdown",
   "id": "3027ba43",
   "metadata": {},
   "source": [
    "These are the explicit constraints written in the requirements of the project:\n",
    "TODO improve this explanation\n",
    "\n",
    "**1. every team plays with every other team only once**\n",
    "\n",
    "Let $game[w,p,s]$ be the team in week $w$, period $p$, slot $s$. Then:\n",
    "\n",
    "$\\forall i,j \\in {1,\\dots,n},\\ i < j: \\quad \\sum_{w=1}^{\\text{weeks}} \\sum_{p=1}^{\\text{periods}}\\Big[ \\mathbf{1}_{\\{game[w,p,1]=i\\wedge game[w,p,2]=j\\}} + \\mathbf{1}_{\\{game[w,p,1]=j \\wedge game[w,p,2]=i\\}} \\Big] = 1$\n",
    "\n",
    "Where $\\mathbf{1}_{{\\cdot}}$ is the indicator function (1 if true, 0 if false)."
   ]
  },
  {
   "cell_type": "code",
   "execution_count": 3,
   "id": "46e90b7d",
   "metadata": {},
   "outputs": [
    {
     "name": "stdout",
     "output_type": "stream",
     "text": [
      "Appending to ./first_model_draft.mzn\n"
     ]
    }
   ],
   "source": [
    "%%writefile -a \"./first_model_draft.mzn\"\n",
    "\n",
    "% 1\n",
    "constraint\n",
    "  forall(i, j in 1..n where i < j) (\n",
    "    sum(w in 1..weeks, p in 1..periods) (\n",
    "      bool2int( (game[w,p,1] == i /\\ game[w,p,2] == j) \\/\n",
    "                (game[w,p,1] == j /\\ game[w,p,2] == i) )\n",
    "    ) == 1\n",
    "  );"
   ]
  },
  {
   "cell_type": "markdown",
   "id": "d7ae5368",
   "metadata": {},
   "source": [
    "<span style=\"color: blue;\">\n",
    "Explanation of the code above:\n",
    "\n",
    "For every week w and every period p:\n",
    "\n",
    "- Check if team i plays team j in that slot, in either order (team i in slot 1 and j in slot 2, or vice versa).\n",
    "\n",
    "- `bool2int(...)` converts true/false to 1/0.\n",
    "\n",
    "- The `sum` counts how many times teams i and j play each other across all weeks and periods.\n",
    "\n",
    "This ensures that each pair of teams plays exactly once.\n",
    "</span>\n",
    "\n",
    "<span style=\"color: black;\">\n",
    "Basing on the literature <span style=\"color: purple;\">@globalCs_SRRT</span> this is a Single Round Robin Tournament Problem (SRRT).\n",
    "\n",
    "_\"In round robin sport competitions, each team plays each other team a fixed number of times g during the competition. Let us first assume g 1⁄4 1, thus we are dealing with single round robin tournaments (SRR).\"_\n",
    "</span>"
   ]
  },
  {
   "cell_type": "markdown",
   "id": "cd0201e6",
   "metadata": {},
   "source": [
    "**2. every team plays once a week;**\n",
    "\n",
    "For every week $w$ if you pick any two different periods the teams assigned to all the slots in these periods must be **different**. In math terms we can express this as:\n",
    "\n",
    "$\\forall w \\in {1,\\ldots,\\text{weeks}}, \\forall (p_1,s_1) \\ne (p_2,s_2): game[w,p_1,s_1] \\ne game[w,p_2,s_2].$\n"
   ]
  },
  {
   "cell_type": "code",
   "execution_count": 4,
   "id": "62f16c2f",
   "metadata": {},
   "outputs": [
    {
     "name": "stdout",
     "output_type": "stream",
     "text": [
      "Appending to ./first_model_draft.mzn\n"
     ]
    }
   ],
   "source": [
    "%%writefile -a \"./first_model_draft.mzn\"\n",
    "\n",
    "% [2]\n",
    "constraint \n",
    "  forall(w in 1..weeks)(\n",
    "    alldifferent([game[w,p,s] | p in 1..periods, s in 1..slots])\n",
    ");"
   ]
  },
  {
   "cell_type": "markdown",
   "id": "790e1cfe",
   "metadata": {},
   "source": [
    "**3. every team plays at most twice in the same period over the tournament.**\n",
    "\n",
    "$\\forall i \\in {1,\\ldots,n},\\ \\forall p \\in {1,\\ldots,\\text{periods}}: \\quad \\sum_{w=1}^{\\text{weeks}} \\sum_{s=1}^{\\text{slots}} \\begin{cases} 1, & \\text{if } game[w,p,s] = i, \\\\ 0, & \\text{if } game[w,p,s] \\ne i \\end{cases} \\le 2$\n",
    "\n",
    "(for every team (i) and every period (p), across all weeks and slots the team (i) may appear at most twice in the same period)\n",
    "\n",
    "\n",
    "<span style=\"color: green;\">SUGGESTION: try to use **count_gec** global constraint</span>\n",
    "```minizinc\n",
    "% Each team plays at most twice in the same period\n",
    "constraint forall(t in Teams, p in 1..num_periods)(count_geq([period[t,j] | j in Teams where t != j], p, 2)::domain_propagation);\n",
    "```\n"
   ]
  },
  {
   "cell_type": "code",
   "execution_count": 5,
   "id": "649badc1",
   "metadata": {},
   "outputs": [
    {
     "name": "stdout",
     "output_type": "stream",
     "text": [
      "Appending to ./first_model_draft.mzn\n"
     ]
    }
   ],
   "source": [
    "%%writefile -a \"./first_model_draft.mzn\"\n",
    "\n",
    "% [3]\n",
    "constraint forall(p in 1..periods) (\n",
    "    global_cardinality_low_up(\n",
    "        [game[w,p,s] | w in 1..weeks, s in 1..2],\n",
    "        [i | i in 0..n-1],\n",
    "        [0 | i in 0..n-1],  % lower bound: 0 appearances\n",
    "        [2 | i in 0..n-1]   % upper bound: 2 appearances\n",
    "    )\n",
    ");\n"
   ]
  },
  {
   "cell_type": "markdown",
   "id": "43bd9aca",
   "metadata": {},
   "source": [
    "## 4. Implied Constraints"
   ]
  },
  {
   "cell_type": "markdown",
   "id": "045b24de",
   "metadata": {},
   "source": [
    "**4.1.** The number of team must be even as the project requirements corresponds with what's written in the paper <span style=\"color: purple;\">@globalCs_SRRT</span>: \n",
    "\n",
    "_\"If n is even, the number of rounds is n 1. A DSRR with an odd number of teams consists of n rounds in each of which n 1 teams play and one team does not.\"_ \n",
    "\n",
    "So we could add a constraint to stop the solution of the problem if the number of teams is not even with:\n",
    "```minizinc\n",
    "constraint n mod 2 = 0;\n",
    "```\n",
    "However, in this context is probably not useful."
   ]
  },
  {
   "cell_type": "markdown",
   "id": "29a3791a",
   "metadata": {},
   "source": [
    "**4.2. Each game must be between two different teams**\n",
    "\n",
    "$\\forall w \\in Weeks, \\forall p \\in Periods: \\quad game[w,p,1] \\neq game[w,p,2]$\n",
    "\n",
    "This prevents a team from playing against itself in any slot.\n"
   ]
  },
  {
   "cell_type": "code",
   "execution_count": 6,
   "id": "513e204e",
   "metadata": {},
   "outputs": [
    {
     "name": "stdout",
     "output_type": "stream",
     "text": [
      "Appending to ./first_model_draft.mzn\n"
     ]
    }
   ],
   "source": [
    "%%writefile -a \"./first_model_draft.mzn\"\n",
    "\n",
    "constraint\n",
    "  forall(w in 1..weeks, p in 1..periods) (\n",
    "    game[w,p,1] != game[w,p,2]\n",
    "  );"
   ]
  },
  {
   "cell_type": "markdown",
   "id": "fd784285",
   "metadata": {},
   "source": [
    "## 5. Symmetry Breaking Constraints"
   ]
  },
  {
   "cell_type": "markdown",
   "id": "8d92a36d",
   "metadata": {},
   "source": [
    "**5.1. Fix first week's first period slot**\n",
    "\n",
    "By fixing the first game of the first week we break a part of the symmetry and reduce equivalent solutions from permuting teams."
   ]
  },
  {
   "cell_type": "code",
   "execution_count": 7,
   "id": "1d07660e",
   "metadata": {},
   "outputs": [
    {
     "name": "stdout",
     "output_type": "stream",
     "text": [
      "Appending to ./first_model_draft.mzn\n"
     ]
    }
   ],
   "source": [
    "%%writefile -a \"./first_model_draft.mzn\"\n",
    "\n",
    "% Symmetry Breaking 1\n",
    "constraint game[1, 1, 1] == 1;"
   ]
  },
  {
   "cell_type": "markdown",
   "id": "4c12068e",
   "metadata": {},
   "source": [
    "**5.2.Ordering weeks by home teams index in first period**\n",
    "\n",
    "$For \\ weeks \\ w=1,…,n−2 \\ \\ \\texttt{game}[w, 1, 1] < \\texttt{game}[w+1, 1, 1]$\n",
    "\n",
    "<span style=\"color: red;\">PROBLEM:</span> this conflicts with **5.1** for n = 6, making it impossible to find a solution "
   ]
  },
  {
   "cell_type": "code",
   "execution_count": 8,
   "id": "f924748d",
   "metadata": {},
   "outputs": [
    {
     "name": "stdout",
     "output_type": "stream",
     "text": [
      "Appending to ./first_model_draft.mzn\n"
     ]
    }
   ],
   "source": [
    "%%writefile -a \"./first_model_draft.mzn\"\n",
    "\n",
    "% Symmetry Breaking 2\n",
    "constraint forall(w in 1..weeks-1) (  game[w, 1, 1] < game[w+1, 1, 1]);"
   ]
  },
  {
   "cell_type": "markdown",
   "id": "729668e2",
   "metadata": {},
   "source": [
    "**5.3. Break team pair symmetry** \n",
    "\n",
    "Every match (game) is a pair of teams. This pairs suffers from a simmetry problem, as each game can be expressed both as **team 1 vs team 2** and as **team 2 vs team 1**.\n",
    "This simmetry can lead to $(n)!$ different solutions. So breaking it can definitily improve model speed.\n",
    "To break the symmetry I decided to implement the following constraint: _ordering teams within a single match so that the home team index is lower than the away team index_\n",
    "\n",
    "For any week $w$, period $p$, $\\texttt{game}[w,p,1] < \\texttt{game}[w,p,2]$ \n",
    "\n",
    "(This constraint is valid only for the decisional model. Instead, in the optimization model, we do care about team order as the number of home and away games for each team should be balanced)"
   ]
  },
  {
   "cell_type": "code",
   "execution_count": 9,
   "id": "8a736ef4",
   "metadata": {},
   "outputs": [
    {
     "name": "stdout",
     "output_type": "stream",
     "text": [
      "Appending to ./first_model_draft.mzn\n"
     ]
    }
   ],
   "source": [
    "%%writefile -a \"./first_model_draft.mzn\"\n",
    "\n",
    "% Symmetry Breaking 3\n",
    "constraint forall(w in 1..weeks, p in 1..periods) (  game[w,p,1] < game[w,p,2]);"
   ]
  },
  {
   "cell_type": "markdown",
   "id": "915ab42e",
   "metadata": {},
   "source": [
    "Solving the problem:"
   ]
  },
  {
   "cell_type": "code",
   "execution_count": 10,
   "id": "3037c0d8",
   "metadata": {},
   "outputs": [
    {
     "name": "stdout",
     "output_type": "stream",
     "text": [
      "Appending to ./first_model_draft.mzn\n"
     ]
    }
   ],
   "source": [
    "%%writefile -a \"./first_model_draft.mzn\"\n",
    "\n",
    "solve satisfy;"
   ]
  },
  {
   "cell_type": "markdown",
   "id": "d66d1c94",
   "metadata": {},
   "source": [
    "Python code to compare code execution results for different team numbers\n",
    "\n",
    "<span style=\"color: red;\">PROBLEM:</span> This code actually does not account for the limit of 300s for each problem instance."
   ]
  },
  {
   "cell_type": "code",
   "execution_count": 16,
   "id": "9da5a3f1",
   "metadata": {},
   "outputs": [],
   "source": [
    "import subprocess\n",
    "import re\n",
    "from tabulate import tabulate  # pip install tabulate\n",
    "\n",
    "# Collect results\n",
    "\n",
    "def compare_results(file_path, values, title, all_solutions=True):\n",
    "    results = []\n",
    "\n",
    "    for n in values:\n",
    "\n",
    "        cmd = [\n",
    "                \"minizinc\",\n",
    "                file_path,\n",
    "                \"-D\", f\"n={n}\",\n",
    "                \"--statistics\",\n",
    "                \"--time-limit\", \"300000\"\n",
    "            ]\n",
    "\n",
    "        if all_solutions:\n",
    "            cmd.append(\"--all-solutions\")\n",
    "\n",
    "        # Run MiniZinc with all solutions and statistics\n",
    "        result = subprocess.run(\n",
    "            cmd,\n",
    "            capture_output=True, text=True\n",
    "        )\n",
    "\n",
    "        \n",
    "            \n",
    "\n",
    "        output = result.stdout\n",
    "\n",
    "        # ---- Parse output ----\n",
    "        # Count number of solutions (each ends with \"----------\")\n",
    "        num_solutions = output.count(\"----------\")\n",
    "\n",
    "        # Extract number of failures\n",
    "        match_failures = re.search(r\"%%%mzn-stat: failures=(\\d+)\", output)\n",
    "        failures = int(match_failures.group(1)) if match_failures else None\n",
    "\n",
    "        # Extract solver time\n",
    "        match_time = re.search(r\"%%%mzn-stat: solveTime=([0-9.]+)\", output)\n",
    "        solver_time = float(match_time.group(1)) if match_time else None\n",
    "\n",
    "        # Add to results list\n",
    "        results.append([n, num_solutions, failures, solver_time])\n",
    "\n",
    "    # ---- Print results as a cute table ----\n",
    "    headers = [\"n\", \"Solutions\", \"Failures\", \"Solver Time (s)\"]\n",
    "    table = tabulate(results, headers=headers, floatfmt=\".3f\", tablefmt=\"fancy_grid\")\n",
    "    print(f\"\\n📊 {title}:\")\n",
    "    print(table)"
   ]
  },
  {
   "cell_type": "code",
   "execution_count": 17,
   "id": "5334b49c",
   "metadata": {},
   "outputs": [
    {
     "name": "stdout",
     "output_type": "stream",
     "text": [
      "\n",
      "📊 First draft:\n",
      "╒═════╤═════════════╤════════════╤═══════════════════╕\n",
      "│   n │   Solutions │   Failures │   Solver Time (s) │\n",
      "╞═════╪═════════════╪════════════╪═══════════════════╡\n",
      "│   2 │           1 │          0 │             4.940 │\n",
      "├─────┼─────────────┼────────────┼───────────────────┤\n",
      "│   4 │           1 │          0 │             0.000 │\n",
      "├─────┼─────────────┼────────────┼───────────────────┤\n",
      "│   6 │           1 │          2 │             0.000 │\n",
      "├─────┼─────────────┼────────────┼───────────────────┤\n",
      "│   8 │           1 │         40 │             0.002 │\n",
      "├─────┼─────────────┼────────────┼───────────────────┤\n",
      "│  10 │           1 │       7358 │             0.257 │\n",
      "├─────┼─────────────┼────────────┼───────────────────┤\n",
      "│  12 │           1 │       1300 │             0.083 │\n",
      "├─────┼─────────────┼────────────┼───────────────────┤\n",
      "│  14 │           1 │      21925 │             1.455 │\n",
      "╘═════╧═════════════╧════════════╧═══════════════════╛\n"
     ]
    }
   ],
   "source": [
    "values = [2, 4, 6, 8, 10, 12, 14]\n",
    "compare_results(\"first_model_draft.mzn\", values, \"First draft\" , all_solutions=False)"
   ]
  },
  {
   "cell_type": "markdown",
   "id": "b4d9395d",
   "metadata": {},
   "source": [
    "## 6. Validation\n",
    "\n",
    "The model must be implemented in MiniZinc and run using at least Gecode. Bonus points will be considered if other solvers are tried. The purpose of the validation is to assess the performance of the solvers using various models and search strategies. It is a good practice to evaluate also the contribution of the implied and symmetry breaking constraints."
   ]
  },
  {
   "cell_type": "markdown",
   "id": "b7a1e5ce",
   "metadata": {},
   "source": [
    "### Experimental Design\n",
    "\n",
    "Before presenting your experimental results, give all the details of your experimental study. Your results should be reproducible following your description. Explain which solvers you used and which search strategies you employed, as well as your experimental set up (e.g., the hardware and the software used, any posed time limit etc). Irreproducible experiments will not be considered."
   ]
  },
  {
   "cell_type": "markdown",
   "id": "24be96de",
   "metadata": {},
   "source": [
    "### Experimental Results\n",
    "\n",
    "Present your experimental results in a clear way. It is mandatory to show a table where:  \n",
    "- rows are labeled with the identifier of the instances,\n",
    "- columns are labeled with the different approaches you tried,  \n",
    "- cells contain the runtime in seconds (in the decision version) or the best objective value (in the optimization version), as specified in the project description, found by the given approach on the given instance, using a certain search strategy. If the instance is solved to optimality, emphasize the objective value in bold. If the instance is proved to be unsatisfiable, indicate it as ’UNSAT’. If no answer is obtained within the time limit, indicate it with a ’N/A’ or ’-’. For example, “The results obtained using the search strategy h are reported in Table 1”."
   ]
  },
  {
   "cell_type": "markdown",
   "id": "90eb84dc",
   "metadata": {},
   "source": [
    "## 9. Questions\n",
    "- Is there a minimum number of teams for which our model should give a Solution? (currently 2, but no solution for 4 and 6) Is this because there are some conflicting constraints?\n",
    "\n",
    "- Are there other possible simmetry breaking constraints?\n",
    "\n",
    "- Can we use more global constraints?\n",
    "\n",
    "- How to implement the optimization function in this model? Remember to use two separate files!\n"
   ]
  }
 ],
 "metadata": {
  "kernelspec": {
   "display_name": "cdmo",
   "language": "python",
   "name": "python3"
  },
  "language_info": {
   "codemirror_mode": {
    "name": "ipython",
    "version": 3
   },
   "file_extension": ".py",
   "mimetype": "text/x-python",
   "name": "python",
   "nbconvert_exporter": "python",
   "pygments_lexer": "ipython3",
   "version": "3.13.7"
  }
 },
 "nbformat": 4,
 "nbformat_minor": 5
}
